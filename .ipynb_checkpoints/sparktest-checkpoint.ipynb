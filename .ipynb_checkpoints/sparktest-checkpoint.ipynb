{
 "cells": [
  {
   "cell_type": "code",
   "execution_count": null,
   "id": "656997bb",
   "metadata": {
    "scrolled": true
   },
   "outputs": [],
   "source": [
    "from pyspark.sql import SparkSession\n",
    "#.master(\"spark://localhost:7077\") \\\n",
    "spark_session = SparkSession.builder\\\n",
    ".master(\"spark://localhost:7077\")\\\n",
    ".appName(\"sparktest\")\\\n",
    ".config(\"spark.dynamicAllocation.enabled\", True)\\\n",
    ".config(\"spark.dynamicAllocation.shuffleTracking.enabled\",True)\\\n",
    ".config(\"spark.shuffle.service.enabled\", True)\\\n",
    ".config(\"spark.dynamicAllocation.executorIdleTimeout\",\"30s\")\\\n",
    ".config(\"spark.cores.max\", 1)\\\n",
    ".config('spark.jars.packages', 'org.mongodb.spark:mongo-spark-connector_2.12:10.1.1')\\\n",
    ".config(\"spark.mongodb.read.connection.uri\", \"mongodb://192.168.2.6:27117/MSS.songs\")\\\n",
    ".getOrCreate()\n",
    "\n",
    "spark_context = spark_session.sparkContext"
   ]
  },
  {
   "cell_type": "code",
   "execution_count": 31,
   "id": "9cfd0e3b",
   "metadata": {
    "scrolled": true
   },
   "outputs": [],
   "source": [
    "df = spark_session.read.format(\"mongodb\").option(\"uri\", \"mongodb://192.168.2.6:27117/MSS.songs\").load()"
   ]
  },
  {
   "cell_type": "code",
   "execution_count": null,
   "id": "4b46473b",
   "metadata": {},
   "outputs": [],
   "source": [
    "df.show()"
   ]
  },
  {
   "cell_type": "code",
   "execution_count": 5,
   "id": "1cf47a0f",
   "metadata": {},
   "outputs": [
    {
     "data": {
      "text/plain": [
       "<KeysViewHDF5 ['analysis', 'metadata', 'musicbrainz']>"
      ]
     },
     "execution_count": 5,
     "metadata": {},
     "output_type": "execute_result"
    }
   ],
   "source": [
    "import h5py\n",
    "f = h5py.File('TRADEMS128F92E83BB-Copy1.h5', 'r')\n",
    "#Remember, h5 files work like dictionaries so we can ask for the keys\n",
    "f.keys()"
   ]
  },
  {
   "cell_type": "code",
   "execution_count": 33,
   "id": "fb2f7811",
   "metadata": {},
   "outputs": [],
   "source": [
    "spark_session.stop()"
   ]
  }
 ],
 "metadata": {
  "kernelspec": {
   "display_name": "Python 3 (ipykernel)",
   "language": "python",
   "name": "python3"
  },
  "language_info": {
   "codemirror_mode": {
    "name": "ipython",
    "version": 3
   },
   "file_extension": ".py",
   "mimetype": "text/x-python",
   "name": "python",
   "nbconvert_exporter": "python",
   "pygments_lexer": "ipython3",
   "version": "3.10.6"
  }
 },
 "nbformat": 4,
 "nbformat_minor": 5
}
