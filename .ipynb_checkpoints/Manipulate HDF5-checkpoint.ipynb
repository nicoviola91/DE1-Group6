{
 "cells": [
  {
   "cell_type": "markdown",
   "id": "c27ab998",
   "metadata": {},
   "source": [
    "### Core concepts\n",
    "An HDF5 file is a container for two kinds of objects: datasets, which are array-like collections of data, and groups, which are folder-like containers that hold datasets and other groups. The most fundamental thing to remember when using h5py is:\n",
    "\n",
    "<b>Groups work like dictionaries, and datasets work like NumPy arrays</b>"
   ]
  },
  {
   "cell_type": "code",
   "execution_count": 1,
   "id": "381e4db4",
   "metadata": {},
   "outputs": [],
   "source": [
    "import  h5py\n"
   ]
  },
  {
   "cell_type": "code",
   "execution_count": 2,
   "id": "d6cc54cf",
   "metadata": {},
   "outputs": [
    {
     "data": {
      "text/plain": [
       "<KeysViewHDF5 ['analysis', 'metadata', 'musicbrainz']>"
      ]
     },
     "execution_count": 2,
     "metadata": {},
     "output_type": "execute_result"
    }
   ],
   "source": [
    "f = h5py.File('TRAAAAW128F429D538.h5', 'r')\n",
    "#Remember, h5 files work like dictionaries so we can ask for the keys\n",
    "f.keys()"
   ]
  },
  {
   "cell_type": "code",
   "execution_count": 4,
   "id": "2dc7112b",
   "metadata": {},
   "outputs": [
    {
     "data": {
      "text/plain": [
       "<KeysViewHDF5 ['bars_confidence', 'bars_start', 'beats_confidence', 'beats_start', 'sections_confidence', 'sections_start', 'segments_confidence', 'segments_loudness_max', 'segments_loudness_max_time', 'segments_loudness_start', 'segments_pitches', 'segments_start', 'segments_timbre', 'songs', 'tatums_confidence', 'tatums_start']>"
      ]
     },
     "execution_count": 4,
     "metadata": {},
     "output_type": "execute_result"
    }
   ],
   "source": [
    "analysis_data = f['analysis']\n",
    "#since analysis is another group, it will behave as a dictionary,\n",
    "#so again we check the keys\n",
    "analysis_data.keys()"
   ]
  },
  {
   "cell_type": "code",
   "execution_count": 10,
   "id": "c596c767",
   "metadata": {},
   "outputs": [
    {
     "data": {
      "text/plain": [
       "<KeysViewHDF5 ['artist_terms', 'artist_terms_freq', 'artist_terms_weight', 'similar_artists', 'songs']>"
      ]
     },
     "execution_count": 10,
     "metadata": {},
     "output_type": "execute_result"
    }
   ],
   "source": [
    "analysis_data = f['metadata']\n",
    "#since analysis is another group, it will behave as a dictionary,\n",
    "#so again we check the keys\n",
    "analysis_data.keys()"
   ]
  },
  {
   "cell_type": "code",
   "execution_count": 19,
   "id": "8785d6d5",
   "metadata": {},
   "outputs": [
    {
     "name": "stdout",
     "output_type": "stream",
     "text": [
      "(1,)\n",
      "(b'', 165270, 0.58179377, 0.40199754, b'ARD7TVE1187B99BFB1', nan, b'California - LA', nan, b'e77e51a5-4761-45b3-9847-2051f811e366', b'Casual', 4479, b'', 0, 0, b'Fear Itself', 300848, 0.60211999, b'SOMZWCG12A8C13C480', b\"I Didn't Mean To\", 3401791)\n",
      "Songname:  b\"I Didn't Mean To\"\n",
      "Hotness:  0.6021199899057548\n"
     ]
    }
   ],
   "source": [
    "songs_metadata=f['metadata']['songs']\n",
    "print(songs_metadata.shape)\n",
    "data=songs_metadata[0]\n",
    "print(data)\n",
    "#columns:\n",
    "# 0- analyzer_version\n",
    "# 1- artist_7digitalid\n",
    "# 2- artist_familiarity\n",
    "# 3- artist_hotness\n",
    "# 4- artist_id\n",
    "# 5- artist_latitude\n",
    "# 6- artist_location\n",
    "# 7- artist_longitude\n",
    "# 8- artist_mbid\n",
    "# 9- artist_name\n",
    "# 10- artist_playmeid\n",
    "# 11- genre\n",
    "# 12- id_artist_terms\n",
    "# 13- idx_similar_artists\n",
    "# 14- release\n",
    "# 15- release_7digitalid\n",
    "# 16- song_hotttnesss\n",
    "# 17- song_id\n",
    "# 18- title\n",
    "# 19- track_7digitalid\n",
    "print(\"Songname: \", data[18])\n",
    "print(\"Hotness: \", data[16])"
   ]
  },
  {
   "cell_type": "code",
   "execution_count": 20,
   "id": "8bf8f8ff",
   "metadata": {},
   "outputs": [
    {
     "name": "stdout",
     "output_type": "stream",
     "text": [
      "Hottest Song in sample:  b'This Christmas (LP Version)'\n"
     ]
    },
    {
     "ename": "NameError",
     "evalue": "name 'hottest_song_htn' is not defined",
     "output_type": "error",
     "traceback": [
      "\u001b[1;31m---------------------------------------------------------------------------\u001b[0m",
      "\u001b[1;31mNameError\u001b[0m                                 Traceback (most recent call last)",
      "Input \u001b[1;32mIn [20]\u001b[0m, in \u001b[0;36m<cell line: 18>\u001b[1;34m()\u001b[0m\n\u001b[0;32m     16\u001b[0m             hottest_song_name \u001b[38;5;241m=\u001b[39m data[\u001b[38;5;241m18\u001b[39m]\n\u001b[0;32m     17\u001b[0m \u001b[38;5;28mprint\u001b[39m(\u001b[38;5;124m\"\u001b[39m\u001b[38;5;124mHottest Song in sample: \u001b[39m\u001b[38;5;124m\"\u001b[39m, hottest_song_name)\n\u001b[1;32m---> 18\u001b[0m \u001b[38;5;28mprint\u001b[39m(\u001b[38;5;124m\"\u001b[39m\u001b[38;5;124mHotness with level: \u001b[39m\u001b[38;5;124m\"\u001b[39m,\u001b[43mhottest_song_htn\u001b[49m)\n",
      "\u001b[1;31mNameError\u001b[0m: name 'hottest_song_htn' is not defined"
     ]
    }
   ],
   "source": [
    "import os\n",
    " \n",
    "# assign directory\n",
    "main_directory = 'MillionSongSubset'\n",
    "hottest_song_name = ''\n",
    "hottest_song_htns = 0\n",
    "\n",
    "# iterate over files in that directory\n",
    "for root, dirs, files in os.walk(main_directory):\n",
    "    for filename in files:\n",
    "        f = h5py.File(os.path.join(root, filename), 'r')\n",
    "        songs_metadata=f['metadata']['songs']\n",
    "        data=songs_metadata[0]\n",
    "        if data[16] > hottest_song_htns:\n",
    "            hottest_song_htns = data[16]\n",
    "            hottest_song_name = data[18]\n",
    "\n",
    "print(\"Hottest Song in sample: \", hottest_song_name)\n",
    "print(\"Hotness with level: \",hottest_song_htns)\n"
   ]
  }
 ],
 "metadata": {
  "kernelspec": {
   "display_name": "Python 3 (ipykernel)",
   "language": "python",
   "name": "python3"
  },
  "language_info": {
   "codemirror_mode": {
    "name": "ipython",
    "version": 3
   },
   "file_extension": ".py",
   "mimetype": "text/x-python",
   "name": "python",
   "nbconvert_exporter": "python",
   "pygments_lexer": "ipython3",
   "version": "3.9.12"
  }
 },
 "nbformat": 4,
 "nbformat_minor": 5
}
