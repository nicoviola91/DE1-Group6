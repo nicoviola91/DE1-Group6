{
 "cells": [
  {
   "cell_type": "markdown",
   "id": "431ab0ed",
   "metadata": {},
   "source": [
    "# Data Analysis"
   ]
  },
  {
   "cell_type": "markdown",
   "id": "83f34fbb",
   "metadata": {},
   "source": [
    "## Spark + MongoDB"
   ]
  },
  {
   "cell_type": "code",
   "execution_count": 1,
   "id": "326ef1cb",
   "metadata": {},
   "outputs": [],
   "source": [
    "from pyspark.sql import SparkSession\n",
    "from operator import add\n",
    "import matplotlib as mpl\n",
    "import matplotlib.pyplot as plt"
   ]
  },
  {
   "cell_type": "code",
   "execution_count": 7,
   "id": "8582a2dd",
   "metadata": {},
   "outputs": [
    {
     "ename": "NameError",
     "evalue": "name 'SparkSession' is not defined",
     "output_type": "error",
     "traceback": [
      "\u001b[1;31m---------------------------------------------------------------------------\u001b[0m",
      "\u001b[1;31mNameError\u001b[0m                                 Traceback (most recent call last)",
      "\u001b[1;32mC:\\Users\\Public\\Documents\\Wondershare\\CreatorTemp\\ipykernel_25720\\1273468141.py\u001b[0m in \u001b[0;36m<cell line: 7>\u001b[1;34m()\u001b[0m\n\u001b[0;32m      5\u001b[0m     \u001b[1;32mreturn\u001b[0m \u001b[0me\u001b[0m\u001b[1;33m[\u001b[0m\u001b[1;36m1\u001b[0m\u001b[1;33m]\u001b[0m\u001b[1;33m\u001b[0m\u001b[1;33m\u001b[0m\u001b[0m\n\u001b[0;32m      6\u001b[0m \u001b[1;31m#\"spark://localhost:7077\"\u001b[0m\u001b[1;33m\u001b[0m\u001b[1;33m\u001b[0m\u001b[0m\n\u001b[1;32m----> 7\u001b[1;33m \u001b[0mspark\u001b[0m \u001b[1;33m=\u001b[0m \u001b[0mSparkSession\u001b[0m\u001b[1;33m.\u001b[0m\u001b[0mbuilder\u001b[0m\u001b[0;31m\\\u001b[0m\u001b[1;33m\u001b[0m\u001b[1;33m\u001b[0m\u001b[0m\n\u001b[0m\u001b[0;32m      8\u001b[0m     \u001b[1;33m.\u001b[0m\u001b[0mappName\u001b[0m\u001b[1;33m(\u001b[0m\u001b[1;34m\"spark_test_pandas\"\u001b[0m\u001b[1;33m)\u001b[0m\u001b[0;31m\\\u001b[0m\u001b[1;33m\u001b[0m\u001b[1;33m\u001b[0m\u001b[0m\n\u001b[0;32m      9\u001b[0m     \u001b[1;33m.\u001b[0m\u001b[0mmaster\u001b[0m\u001b[1;33m(\u001b[0m\u001b[1;34m\"local\"\u001b[0m\u001b[1;33m)\u001b[0m\u001b[0;31m \u001b[0m\u001b[0;31m\\\u001b[0m\u001b[1;33m\u001b[0m\u001b[1;33m\u001b[0m\u001b[0m\n",
      "\u001b[1;31mNameError\u001b[0m: name 'SparkSession' is not defined"
     ]
    }
   ],
   "source": [
    "def sort_1(e):\n",
    "    return e[0]\n",
    "\n",
    "def sort_2(e):\n",
    "    return e[1]\n",
    "#\"spark://localhost:7077\"\n",
    "spark = SparkSession.builder\\\n",
    "    .appName(\"spark_test_pandas\")\\\n",
    "    .master(\"local\") \\\n",
    "    .config(\"spark.jars.packages\", \"org.mongodb.spark:mongo-spark-connector_2.12:10.1.1\")\\\n",
    "    .config(\"spark.mongodb.read.connection.uri\", \"mongodb://192.168.2.6:27117/MSS.songs\")\\\n",
    "    .getOrCreate()\n",
    "spark_context = spark.sparkContext"
   ]
  },
  {
   "cell_type": "code",
   "execution_count": 12,
   "id": "a04130da",
   "metadata": {},
   "outputs": [],
   "source": [
    "sdf = spark\\\n",
    ".read.format(\"mongodb\")\\\n",
    ".option(\"uri\", \"mongodb://192.168.2.6:27117/MSS.songs\").load()"
   ]
  },
  {
   "cell_type": "code",
   "execution_count": 13,
   "id": "83537b20",
   "metadata": {
    "collapsed": true
   },
   "outputs": [
    {
     "name": "stdout",
     "output_type": "stream",
     "text": [
      "+--------------------+--------------------+----------------+-----------------+-------------------+-------------------+--------------------+---------------+--------------------+----------------+--------------------+--------------------+---------------+--------------------+------------+---------+--------------+------+-----+-----------------+----------------+-------------------+--------------+--------------------+---------------+-----------------------+------------------+-----------------------+-------------------------+------------------------------+---------------------------+--------------------+------------------+-------------------+-------------------+---------------------+----------------+---+--------------+--------+----+---------------+--------------------+------------------+-------------------+--------------------+-----------------+-------+--------------+-------------------------+--------------------+----------------+--------------------+----+\n",
      "|                 _id|analysis_sample_rate|analyzer_version|artist_7digitalid| artist_familiarity|  artist_hotttnesss|           artist_id|artist_latitude|     artist_location|artist_longitude|         artist_mbid|         artist_name|artist_playmeid|           audio_md5|danceability| duration|end_of_fade_in|energy|genre|idx_artist_mbtags|idx_artist_terms|idx_bars_confidence|idx_bars_start|idx_beats_confidence|idx_beats_start|idx_sections_confidence|idx_sections_start|idx_segments_confidence|idx_segments_loudness_max|idx_segments_loudness_max_time|idx_segments_loudness_start|idx_segments_pitches|idx_segments_start|idx_segments_timbre|idx_similar_artists|idx_tatums_confidence|idx_tatums_start|key|key_confidence|loudness|mode|mode_confidence|             release|release_7digitalid|    song_hotttnesss|             song_id|start_of_fade_out|  tempo|time_signature|time_signature_confidence|               title|track_7digitalid|            track_id|year|\n",
      "+--------------------+--------------------+----------------+-----------------+-------------------+-------------------+--------------------+---------------+--------------------+----------------+--------------------+--------------------+---------------+--------------------+------------+---------+--------------+------+-----+-----------------+----------------+-------------------+--------------+--------------------+---------------+-----------------------+------------------+-----------------------+-------------------------+------------------------------+---------------------------+--------------------+------------------+-------------------+-------------------+---------------------+----------------+---+--------------+--------+----+---------------+--------------------+------------------+-------------------+--------------------+-----------------+-------+--------------+-------------------------+--------------------+----------------+--------------------+----+\n",
      "|64101fff4fca7ad01...|               22050|             b''|           338633|  0.315307851431913|0.22973849826555676|b'ARLV03V1187B9A3...|            nan|                 b''|             nan|b'38a2f32e-0304-4...|b'Djelimady Tounk...|             -1|b'e08761472d373dd...|         0.0|487.33995|         0.392|   0.0|  b''|                0|               0|                  0|             0|                   0|              0|                      0|                 0|                      0|                        0|                             0|                          0|                   0|                 0|                  0|                  0|                    0|               0|  0|         0.654|  -9.777|   1|          0.617|b'Solon k\\xc3\\xb4no'|            321338|0.22914410371660274|b'SOHUHHZ12AAA15E...|          476.746| 145.93|             4|                    0.652|b'Sarank\\xc3\\xa9gni'|         3619285|b'TRBBLGX128F92D4...|2005|\n",
      "|641020004fca7ad01...|               22050|             b''|            59307| 0.6231542839712871|0.42935351499935154|b'ARBFDJW1187B9AD...|        30.2676|       b'Austin, TX'|       -97.74298|b'835cbbdd-4a59-4...|b'The Fabulous Th...|          11233|b'45d945268d41538...|         0.0|221.23057|         0.473|   0.0|  b''|                0|               0|                  0|             0|                   0|              0|                      0|                 0|                      0|                        0|                             0|                          0|                   0|                 0|                  0|                  0|                    0|               0|  4|          0.69| -14.977|   0|          0.534|   b'Powerful Stuff'|            382118|0.21508031850922793|b'SOFCKRY12AAF3B2...|           212.91| 110.98|             3|                      1.0|b\"Rainin' In My H...|         4241640|b'TRAHZQU128F92DD...|1989|\n",
      "|641020004fca7ad01...|               22050|             b''|            35805| 0.7768857219069979|  0.586086206760435|b'ARN7POH1187B9B3...|            nan|       b'Dallas, TX'|             nan|b'fe37acd4-893c-4...|  b'Jessica Simpson'|            802|b'4c0833990802244...|         0.0|250.04363|         0.919|   0.0|  b''|                0|               0|                  0|             0|                   0|              0|                      0|                 0|                      0|                        0|                             0|                          0|                   0|                 0|                  0|                  0|                    0|               0|  5|         0.633|   -6.53|   1|          0.511|     b'In This Skin'|            290937|                nan|b'SODANQM12CF5F89...|          235.967|163.848|             4|                    0.384|               b'Be'|         3264694|b'TRAXPVO128F427C...|2003|\n",
      "|641020014fca7ad01...|               22050|             b''|           492687|0.28521031642142786|                0.0|b'ARHCZHQ12086C11...|            nan|                 b''|             nan|b'd01f8c7a-754f-4...|b'Henri Rene And ...|             -1|b'06fc18af95ddcfc...|         0.0|168.54159|         0.345|   0.0|  b''|                0|               0|                  0|             0|                   0|              0|                      0|                 0|                      0|                        0|                             0|                          0|                   0|                 0|                  0|                  0|                    0|               0|  3|         0.138| -16.797|   1|           0.34|b'Ultra-Lounge / ...|             28425|                nan|b'SOTSKKZ12A6D4F7...|          164.583|112.911|             1|                    0.548|b'Petite Fleur (I...|          311781|b'TRBBYQM128F1468...|   0|\n",
      "|641020024fca7ad01...|               22050|             b''|            29156| 0.4617414933052843| 0.3342524740434901|b'ARDZJ6H1187FB38...|            nan|                 b''|             nan|b'5b5d63ac-e78e-4...|   b'Moraes Moreira'|           3542|b'e98f8957f3e6001...|         0.0|185.44281|           0.0|   0.0|  b''|                0|               0|                  0|             0|                   0|              0|                      0|                 0|                      0|                        0|                             0|                          0|                   0|                 0|                  0|                  0|                    0|               0|  9|         0.627|  -7.498|   1|          0.445|b'Bahi\\xc3\\xa3o C...|            141876|                nan|b'SOPHWSQ12A8C133...|          185.443|145.047|             4|                    0.602|b'Boca Do Balao /...|         1477237|b'TRALRWY128F4249...|   0|\n",
      "|641020024fca7ad01...|               22050|             b''|            18676| 0.8405904383361571| 0.5465451619554416|b'AR7GUNF1187B990...|        35.2225|    b'Charlotte, NC'|       -80.83754|b'1870fb43-50f1-4...|b'Between The Bur...|             -1|b'cb117aaf5011fd1...|         0.0|133.82485|         0.456|   0.0|  b''|                0|               0|                  0|             0|                   0|              0|                      0|                 0|                      0|                        0|                             0|                          0|                   0|                 0|                  0|                  0|                    0|               0| 10|         0.576|   -8.06|   0|           0.37|           b'Colors'|            131598| 0.3725300393660796|b'SOIKALD12A81C23...|          133.825|120.663|             4|                      1.0|b'Foam Born (A) T...|         1362419|b'TRAFJUT128F4235...|2007|\n",
      "|641020024fca7ad01...|               22050|             b''|            34461| 0.5975412179723806|0.38265197113973687|b'ARXUT4W1187FB48...|            nan|                 b''|             nan|b'e927aaaa-323e-4...| b'Javier Navarrete'|             -1|b'3424e5e202aba39...|         0.0|128.83546|           0.0|   0.0|  b''|                0|               0|                  0|             0|                   0|              0|                      0|                 0|                      0|                        0|                             0|                          0|                   0|                 0|                  0|                  0|                    0|               0|  3|           0.0| -17.699|   1|          0.251|           b'Cracks'|            644631| 0.3943948561005826|b'SORSECL12AB0182...|          121.423| 90.932|             3|                      1.0|    b'Midnight Swim'|         7143933|b'TRAADEV128F9348...|   0|\n",
      "|641020044fca7ad01...|               22050|             b''|           236233| 0.5126871313265208|  0.370628891638349|b'ARLAEJO1187B98D...|            nan|                 b''|             nan|b'22d8f80a-6e2d-4...|    b'FU-Schnickens'|           8331|b'c39887820034685...|         0.0|313.80853|         7.163|   0.0|  b''|                0|               0|                  0|             0|                   0|              0|                      0|                 0|                      0|                        0|                             0|                          0|                   0|                 0|                  0|                  0|                    0|               0|  6|         0.109| -11.041|   1|          0.285|    b'Greatest Hits'|            302144| 0.5033812362063191|b'SOFAKTP12A8C13D...|           291.59| 90.846|             4|                    0.939|  b'Visions (20/20)'|         3415382|b'TRAZYFD128F42A0...|1994|\n",
      "|641020054fca7ad01...|               22050|             b''|            94376| 0.5470407067148041| 0.3451094870859595|b'ARSJ46X1187FB4A...|            nan|                 b''|             nan|b'd9fa989e-6b89-4...|b'Various Product...|         193557|b'5c85d633a1a7220...|         0.0|366.23628|           0.0|   0.0|  b''|                0|               0|                  0|             0|                   0|              0|                      0|                 0|                      0|                        0|                             0|                          0|                   0|                 0|                  0|                  0|                    0|               0|  1|         0.329| -12.988|   1|          0.408|           b'Versus'|            333413|                nan|b'SOZDQDQ12AB017D...|          355.741|118.519|             4|                      1.0|b'Lost (Actress R...|         3733434|b'TRAYBIE128F92ED...|2008|\n",
      "|641020064fca7ad01...|               22050|             b''|            81100|  0.631630608052795| 0.3736212123951274|b'ARI3W3K1187FB49...|            nan|                 b''|             nan|b'c9073012-4547-4...|b'Cedric Gervais ...|             -1|b'997c127b60f82a5...|         0.0| 392.9073|         0.142|   0.0|  b''|                0|               0|                  0|             0|                   0|              0|                      0|                 0|                      0|                        0|                             0|                          0|                   0|                 0|                  0|                  0|                    0|               0| 10|          0.86|  -7.501|   0|          0.716|            b'Pills'|            539006|                nan|b'SONKAVH12AB017D...|          387.094|124.063|             4|                    0.548|b'Pills (Dub) (Dub)'|         5967336|b'TRBAWWJ128F9313...|   0|\n",
      "|641020064fca7ad01...|               22050|             b''|            49948| 0.5660243021595366| 0.3846016855478264|b'AR0AVIB1187FB37...|            nan|    b'Englewood, NJ'|             nan|b'e1235abf-1fab-4...|     b'Regina Belle'|          11682|b'0846c474c499112...|         0.0|225.33179|           0.0|   0.0|  b''|                0|               0|                  0|             0|                   0|              0|                      0|                 0|                      0|                        0|                             0|                          0|                   0|                 0|                  0|                  0|                    0|               0| 10|         0.203|  -7.991|   1|          0.401|    b\"Reachin' Back\"|            282384| 0.4314328727979488|b'SOMGNHX12A8C131...|          210.083|135.985|             4|                    0.517|b'You Are Everyth...|         3143135|b'TRBFLOH128F4263...|1995|\n",
      "|641020084fca7ad01...|               22050|             b''|             1015| 0.6559214175882668| 0.5783016335967479|b'AR9W3X91187FB39...|            nan|b'Chiswick, Londo...|             nan|b'401c3991-b76b-4...|     b'Phil Collins'|             -1|b'78a65464107a60d...|         0.0| 346.5922|         0.293|   0.0|  b''|                0|               0|                  0|             0|                   0|              0|                      0|                 0|                      0|                        0|                             0|                          0|                   0|                 0|                  0|                  0|                    0|               0|  3|         0.778| -15.018|   1|          0.769|       b'Both Sides'|             40838|                nan|b'SOBXWUS12A58A7D...|          339.336| 89.921|             4|                    0.473|b'Please Come Out...|          435076|b'TRBFVZI128F147F...|1993|\n",
      "|641020084fca7ad01...|               22050|             b''|           150677| 0.6742484209608345|0.46051574170106624|b'ARRI5MR1187FB47...|            nan|                 b''|             nan|b'5c12b265-5e59-4...|b'Esperanza Spald...|          59668|b'55661fc3323cabe...|         0.0| 345.5473|           0.0|   0.0|  b''|                0|               0|                  0|             0|                   0|              0|                      0|                 0|                      0|                        0|                             0|                          0|                   0|                 0|                  0|                  0|                    0|               0|  5|         0.463| -15.525|   0|          0.463|        b'Esperanza'|            551717| 0.5830512919625246|b'SONTBYE12AB0182...|          335.099| 171.99|             7|                      1.0|     b'Love In Time'|         6100110|b'TRBABJK128F9333...|2008|\n",
      "|641020094fca7ad01...|               22050|             b''|           170592| 0.4438491869741072|0.26974992542225795|b'ARXKRVF11E2835D...|            nan|                 b''|             nan|b'2bba63bc-bfbe-4...|          b\"Mr. De'\"|             -1|b'aa5450e8e7801d1...|         0.0|240.09098|         2.043|   0.0|  b''|                0|               0|                  0|             0|                   0|              0|                      0|                 0|                      0|                        0|                             0|                          0|                   0|                 0|                  0|                  0|                    0|               0|  9|         0.053|  -6.743|   0|          0.237|         b\"Holi'De'\"|            223706|                0.0|b'SOSZNCW12A8C13F...|          232.443|130.019|             4|                    0.181|   b\"Mr. De's Theme\"|         2444836|b'TRAXEBW128F4292...|   0|\n",
      "|641020094fca7ad01...|               22050|             b''|             4899| 0.6146429541591771| 0.4390245612067925|b'ARSYKGV1187B9A4...|            nan|                 b''|             nan|b'8e8c6fd6-c96a-4...|    b'Nicole Mullen'|             -1|b'710e97be99a10c0...|         0.0|194.95138|         0.363|   0.0|  b''|                0|               0|                  0|             0|                   0|              0|                      0|                 0|                      0|                        0|                             0|                          0|                   0|                 0|                  0|                  0|                    0|               0|  2|           0.0| -14.419|   0|          0.105|b'Christmas In Bl...|              6909|                nan|b'SOUCZLL12A58A81...|          188.894| 94.012|             1|                    0.755|b'The Christmas S...|           70130|b'TRBATVW128E0785...|   0|\n",
      "|641020094fca7ad01...|               22050|             b''|            14339| 0.5374253096699335| 0.3057340310842137|b'AR47RVG1187B995...|        30.2676|       b'Austin, TX'|       -97.74298|b'f8830251-c5f9-4...|b'D:Fuse vs The S...|             -1|b'25269f8201666f6...|         0.0|534.62159|         0.096|   0.0|  b''|                0|               0|                  0|             0|                   0|              0|                      0|                 0|                      0|                        0|                             0|                          0|                   0|                 0|                  0|                  0|                    0|               0|  7|         0.012|  -4.757|   1|          0.353|   b'Stereo + Video'|            819479|                nan|b'SOWAVGA12A58A7A...|          530.982|130.018|             4|                      1.0|   b'Stereo + Video'|         9050398|b'TRAQSEU12903CE5...|   0|\n",
      "|6410200a4fca7ad01...|               22050|             b''|           447422|0.46676814463238636|0.37241588818633775|b'ARMRQFC1269FCD2...|            nan|                 b''|             nan|                 b''|              b'Roj'|             -1|b'272880f945730a5...|         0.0| 41.63873|           0.0|   0.0|  b''|                0|               0|                  0|             0|                   0|              0|                      0|                 0|                      0|                        0|                             0|                          0|                   0|                 0|                  0|                  0|                    0|               0|  1|         0.583| -22.474|   1|          0.418|b'The Transaction...|            601112|0.36727341580934564|b'SOLURBR12AC9075...|           41.639|156.062|             4|                      0.0|   b'Clear Channels'|         6673197|b'TRBAGYL12903CF1...|   0|\n",
      "|6410200b4fca7ad01...|               22050|             b''|            30269|0.49883497525793824|0.37996076697507797|b'AR9OLFX1187B9A5...|       31.30757|        b'Kosse, TX'|       -96.63166|b'c727f585-54e0-4...|        b'Bob Wills'|           4912|b'74134e9bbef7f1d...|         0.0|151.69261|           0.0|   0.0|  b''|                0|               0|                  0|             0|                   0|              0|                      0|                 0|                      0|                        0|                             0|                          0|                   0|                 0|                  0|                  0|                    0|               0|  3|         0.269| -14.928|   1|           0.42|  b'Cotton Eyed Joe'|            757441|                nan|b'SOPUSHG12AB0185...|          147.545|109.657|             1|                    0.243|        b'Linda Lou'|         8384561|b'TRAZSWV12903CB7...|   0|\n",
      "|6410200b4fca7ad01...|               22050|             b''|            40744| 0.5357025281303791| 0.3849861165778121|b'ARCID1N1187FB51...|            nan|                 b''|             nan|b'3d9ba6f0-c4ed-4...|b'Carlos Nu\\xc3\\x...|          28223|b'321434954bfe555...|         0.0|275.43465|           0.0|   0.0|  b''|                0|               0|                  0|             0|                   0|              0|                      0|                 0|                      0|                        0|                             0|                          0|                   0|                 0|                  0|                  0|                    0|               0|  0|         0.584| -11.019|   1|           0.73|b'Carlos Nunez En...|            307974|0.30416950343527516|b'SOVENLZ12A8C13F...|          275.435|143.969|             4|                      0.0|b'Cami\\xc3\\xb1o D...|         3472510|b'TRAVZZV128F42AE...|2004|\n",
      "|6410200c4fca7ad01...|               22050|             b''|           164936|0.49823007193913954|0.28872653678340027|b'ARZLCTV1241B9C4...|            nan|                 b''|             nan|                 b''|b'Claire Elzi\\xc3...|             -1|b'151765ae32a71ce...|         0.0|235.54567|           0.0|   0.0|  b''|                0|               0|                  0|             0|                   0|              0|                      0|                 0|                      0|                        0|                             0|                          0|                   0|                 0|                  0|                  0|                    0|               0| 10|         0.423| -17.471|   1|          0.627|b'La vie va si vi...|            804889|                nan|b'SOVQMDQ12A8C13F...|          230.087| 97.671|             4|                    0.331|b'Il fait d\\xc3\\x...|         8897439|b'TRBADSX12903CC0...|   0|\n",
      "+--------------------+--------------------+----------------+-----------------+-------------------+-------------------+--------------------+---------------+--------------------+----------------+--------------------+--------------------+---------------+--------------------+------------+---------+--------------+------+-----+-----------------+----------------+-------------------+--------------+--------------------+---------------+-----------------------+------------------+-----------------------+-------------------------+------------------------------+---------------------------+--------------------+------------------+-------------------+-------------------+---------------------+----------------+---+--------------+--------+----+---------------+--------------------+------------------+-------------------+--------------------+-----------------+-------+--------------+-------------------------+--------------------+----------------+--------------------+----+\n",
      "only showing top 20 rows\n",
      "\n"
     ]
    }
   ],
   "source": [
    "sdf.show()"
   ]
  },
  {
   "cell_type": "markdown",
   "id": "9ca5ddb3",
   "metadata": {},
   "source": [
    "### plot songs per year"
   ]
  },
  {
   "cell_type": "code",
   "execution_count": 5,
   "id": "1c69d9ee",
   "metadata": {},
   "outputs": [
    {
     "name": "stderr",
     "output_type": "stream",
     "text": [
      "                                                                                \r"
     ]
    },
    {
     "data": {
      "text/plain": [
       "Text(0, 0.5, 'Nr of songs')"
      ]
     },
     "execution_count": 5,
     "metadata": {},
     "output_type": "execute_result"
    },
    {
     "data": {
      "image/png": "[encoded data removed]",
      "text/plain": [
       "<Figure size 432x288 with 1 Axes>"
      ]
     },
     "metadata": {
      "needs_background": "light"
     },
     "output_type": "display_data"
    }
   ],
   "source": [
    "year_freq = sdf.select('Year').rdd\\\n",
    "                .map(lambda x: (x, 1))\\\n",
    "                .reduceByKey(add).collect()\n",
    "years = [float(i[0][0]) if float(i[0][0])>0 else None for i in year_freq]\n",
    "years_freq_ =[i[1] for i in year_freq]\n",
    "\n",
    "plt.plot(years, years_freq_,'o', color='purple')\n",
    "plt.title('Number of songs over the years')\n",
    "plt.xlabel('Year')\n",
    "plt.ylabel('Nr of songs')"
   ]
  },
  {
   "cell_type": "markdown",
   "id": "2f8c7075",
   "metadata": {},
   "source": [
    "### plot song per year with condition"
   ]
  },
  {
   "cell_type": "code",
   "execution_count": 7,
   "id": "ecb0f9ae",
   "metadata": {},
   "outputs": [
    {
     "data": {
      "text/plain": [
       "Text(0, 0.5, 'Nr of songs')"
      ]
     },
     "execution_count": 7,
     "metadata": {},
     "output_type": "execute_result"
    },
    {
     "data": {
      "image/png": "[encoded data removed]",
      "text/plain": [
       "<Figure size 432x288 with 1 Axes>"
      ]
     },
     "metadata": {
      "needs_background": "light"
     },
     "output_type": "display_data"
    }
   ],
   "source": [
    "condition = 'Key==0'\n",
    "year_freq = sdf.where(condition).select('Year').rdd\\\n",
    "                .map(lambda x: (x, 1))\\\n",
    "                .reduceByKey(add).collect()#, key=sort_1, reverse=False)\n",
    "years = [float(i[0][0]) if float(i[0][0])>0 else None for i in year_freq]\n",
    "years_freq_ =[i[1] for i in year_freq]\n",
    "\n",
    "plt.plot(years, years_freq_,'o', color='purple')\n",
    "plt.title('Number of songs over the years with {}'.format(condition))\n",
    "plt.xlabel('Year')\n",
    "plt.ylabel('Nr of songs')"
   ]
  },
  {
   "cell_type": "code",
   "execution_count": 17,
   "id": "ec61ece5",
   "metadata": {},
   "outputs": [],
   "source": [
    "spark.stop()"
   ]
  },
  {
   "cell_type": "markdown",
   "id": "1d4c85ff",
   "metadata": {},
   "source": [
    "## perform tests\n"
   ]
  },
  {
   "cell_type": "code",
   "execution_count": 1,
   "id": "f49bf782",
   "metadata": {},
   "outputs": [],
   "source": [
    "def data_anal(spark):\n",
    "    pass"
   ]
  },
  {
   "cell_type": "code",
   "execution_count": 15,
   "id": "bc302f3d",
   "metadata": {},
   "outputs": [],
   "source": [
    "import time\n",
    "\n",
    "master = \"local\"   # \"spark://192.168.144.2:7077\"\n",
    "\n",
    "num_cores = [i for i in range(1, 4)]\n",
    "time_dct = {}\n",
    "col = ['tstart', 'tsession_created', 'tdata_loaded', 'tdata_analysed']\n",
    "\n",
    "for ncs in num_cores:\n",
    "    time_lst = []\n",
    "    time_lst.append(time.time()) # tstart\n",
    "    spark = SparkSession.builder\\\n",
    "                        .appName(\"analysis_test_0_cores_{}\".format(ncs))\\\n",
    "                        .master(master) \\\n",
    "                        .config(\"spark.cores.max\", ncs)\\\n",
    "                        .config(\"spark.jars.packages\", \"org.mongodb.spark:mongo-spark-connector_2.12:10.1.1\")\\\n",
    "                        .config(\"spark.mongodb.read.connection.uri\", \"mongodb://192.168.2.6:27117/MSS.songs\")\\\n",
    "                        .getOrCreate()\n",
    "    time_lst.append(time.time()) # tsession_created\n",
    "    sdf = spark\\\n",
    "                        .read.format(\"mongodb\")\\\n",
    "                        .option(\"uri\", \"mongodb://192.168.2.6:27117/MSS.songs\").load()\n",
    "    time_lst.append(time.time()) # tdata_loaded\n",
    "    \n",
    "    # data analysis\n",
    "    data_anal(spark)\n",
    "    \n",
    "    time_lst.append(time.time()) # tdata_analysed\n",
    "    \n",
    "    spark.stop()\n",
    "    time_dct[str(ncs)] = time_lst\n",
    "\n",
    "print(col)\n",
    "print(time_dct)\n",
    "    "
   ]
  },
  {
   "cell_type": "code",
   "execution_count": 16,
   "id": "dbda079c",
   "metadata": {},
   "outputs": [],
   "source": [
    "spark.stop()"
   ]
  },
  {
   "cell_type": "code",
   "execution_count": null,
   "id": "68655077",
   "metadata": {},
   "outputs": [],
   "source": []
  }
 ],
 "metadata": {
  "kernelspec": {
   "display_name": "Python 3 (ipykernel)",
   "language": "python",
   "name": "python3"
  },
  "language_info": {
   "codemirror_mode": {
    "name": "ipython",
    "version": 3
   },
   "file_extension": ".py",
   "mimetype": "text/x-python",
   "name": "python",
   "nbconvert_exporter": "python",
   "pygments_lexer": "ipython3",
   "version": "3.10.4"
  }
 },
 "nbformat": 4,
 "nbformat_minor": 5
}
